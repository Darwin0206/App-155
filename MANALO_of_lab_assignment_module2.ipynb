{
  "nbformat": 4,
  "nbformat_minor": 0,
  "metadata": {
    "colab": {
      "provenance": []
    },
    "kernelspec": {
      "name": "python3",
      "display_name": "Python 3"
    }
  },
  "cells": [
    {
      "cell_type": "markdown",
      "metadata": {
        "id": "G0BcK0H_G1Iu"
      },
      "source": [
        "# **AP155 Lab Assignment**\n",
        "## Module 2: Solution of Linear and Nonlinear Equations\n",
        "\n",
        "_Instructions_: Answer each problem as completely as you can. Discuss **all** your answers as clearly and concisely as possible.\n",
        "\n",
        "_Scoring Criteria_: 50% - *correctness of code*; 50% - *discussion of the code and results*. Maximum score is **100 points**.\n",
        "\n"
      ]
    },
    {
      "cell_type": "markdown",
      "metadata": {
        "id": "PeHZ9kP8JaVR"
      },
      "source": [
        "### Student Information\n",
        "\n",
        "_Full Name (Last Name, First Name)_: Manalo Jr., Darwin\n",
        "\n",
        "_Student No._: 2022-10113\n",
        "\n",
        "_Section_: THV-TX-2"
      ]
    },
    {
      "cell_type": "markdown",
      "metadata": {
        "id": "Hc183co-J4eI"
      },
      "source": [
        "### Submission Information\n",
        "\n",
        "_Date and Time Submitted (most recent upload)_: Oct. 6, 2024\n",
        "\n",
        "**HONOR PLEDGE** I affirm that I have upheld the highest principles of honesty and integrity in my academic work and that this lab assignment is my own work.\n",
        "\n",
        "**Sign here with your full name**: Darwin P. Manalo Jr."
      ]
    },
    {
      "cell_type": "markdown",
      "metadata": {
        "id": "4LUwfsfMBmvd"
      },
      "source": [
        "### Grading Information (c/o Lab Instructor)\n",
        "\n",
        "TOTAL SCORE: **XX**/100\n",
        "\n",
        "Score breakdown:\n",
        "* Problem 1 - XX/30\n",
        "* Problem 2 - XX/30\n",
        "* Problem 3 - XX/40\n",
        "\n"
      ]
    },
    {
      "cell_type": "markdown",
      "metadata": {
        "id": "kBX9EyMLOnXj"
      },
      "source": [
        "### PROBLEM 1\n",
        "\n",
        "**Solve for eigenvalues and eigenvectors of a symmetric matrix**\n",
        "\n",
        "1. Use numpy's $\\tt linalg$ package to find the eigenvalues and eigenvectors of the ff. symmetrix matrix *(15 pts.)*:\n",
        "\n",
        "$ \\begin{equation}\n",
        "{\\bf A} =\n",
        "\\begin{pmatrix}\n",
        "8 & -2 & -20 \\\\\n",
        "-2 & -3 & -9 \\\\\n",
        "-20 & -9 & -3\n",
        "\\end{pmatrix} \\end{equation} $\n",
        "\n",
        "2. Check your answer numerically; that is, check that $\\bf AV = VD$, where the $N$ x $N$ matrix $\\bf V$ has the eigenvectors as its columns and $\\bf D$ is the diagonal matrix with the eigenvalues $\\lambda_i$ as its diagonal entries. *(15 pts.)*"
      ]
    },
    {
      "cell_type": "code",
      "metadata": {
        "id": "GABjwlXCR97i",
        "colab": {
          "base_uri": "https://localhost:8080/"
        },
        "outputId": "a4a45a5f-9d0e-4933-87bf-702a571a9ed2"
      },
      "source": [
        "import numpy as np # Using the numpy package\n",
        "from numpy import array, matmul # Getting the necessary operations from numpy\n",
        "from numpy.linalg import eigh, norm, inv\n",
        "# Importing the important function for the eigenvalues and eigenvectors of matrices\n",
        "# Setting up the array for the given matrix A\n",
        "A = array([[8,-2,-20], [-2,-3,-9], [-20,-9,-3]])\n",
        "# We will use eigh to get the eigenvalues and eigenvectors since the matrix A is symmetric\n",
        "x,V = eigh(A)\n",
        "# Printing the eigenvalues and eigenvectors of A\n",
        "print(\"Eigenvalues of A\\n\", x)\n",
        "print(\"Eigenvectors of A\\n\", V)\n",
        "# Let D be the diagonal matrix with the eigenvalues\n",
        "D = np.diag(x)\n",
        "print(\"Diagonal matrix with the eigenvalues of A\\n\", D)\n",
        "# Checking if A = VDV^-1 where V^-1 is the inverse of V\n",
        "V_0 = inv(V)\n",
        "A_2 = matmul(matmul(V,D), V_0)\n",
        "# Checking if AV = VD by matrix multiplication\n",
        "print(\"AV\\n\", matmul(A,V)) # Printing the output for AV\n",
        "print(\"VD\\n\", matmul (V,D)) # Printing the output for VD\n",
        "# Checking if A = VDV^-1\n",
        "print(\"matrix A\\n\", A) # Printing the output for A\n",
        "print(\"matrix VDV^-1\\n\", A_2) # Printing the output for VDV^-1\n",
        "# Calculating the errors\n",
        "print(\"Percent error for AV is\\n\", norm(matmul(A,V)-matmul(V,D))/norm(matmul(V,D))) # Calculating the error via Frobenius norm as AV and VD as the experimental and theoretical values, respectively\n",
        "print(\"Percent error for VD is\\n\", norm(matmul(V,D)-matmul(A,V))/norm(matmul(A,V))) # Calculating the error via Frobenius norm as AV and VD as the theoretical and experimental values, respectively\n",
        "print(\"Percent error using inverse is\", norm(A-matmul(matmul(V,D), inv(V)))/norm(A)) # Calculating the error using the Frobenius norm of the inverse of V"
      ],
      "execution_count": 18,
      "outputs": [
        {
          "output_type": "stream",
          "name": "stdout",
          "text": [
            "Eigenvalues of A\n",
            " [-21.99606195   0.16021522  23.83584674]\n",
            "Eigenvectors of A\n",
            " [[ 0.52496527  0.36793396 -0.76748685]\n",
            " [ 0.40892672 -0.89987151 -0.15169114]\n",
            " [ 0.74645187  0.2342133   0.62285932]]\n",
            "Diagonal matrix with the eigenvalues of A\n",
            " [[-21.99606195   0.           0.        ]\n",
            " [  0.           0.16021522   0.        ]\n",
            " [  0.           0.          23.83584674]]\n",
            "AV\n",
            " [[-11.54716868   0.05894862 -18.29369893]\n",
            " [ -8.99477756  -0.14417311  -3.61568676]\n",
            " [-16.4190016    0.03752454  14.8463793 ]]\n",
            "VD\n",
            " [[-11.54716868   0.05894862 -18.29369893]\n",
            " [ -8.99477756  -0.14417311  -3.61568676]\n",
            " [-16.4190016    0.03752454  14.8463793 ]]\n",
            "matrix A\n",
            " [[  8  -2 -20]\n",
            " [ -2  -3  -9]\n",
            " [-20  -9  -3]]\n",
            "matrix VDV^-1\n",
            " [[  8.  -2. -20.]\n",
            " [ -2.  -3.  -9.]\n",
            " [-20.  -9.  -3.]]\n",
            "Percent error for AV is\n",
            " 3.1023925402670955e-16\n",
            "Percent error for VD is\n",
            " 3.1023925402670955e-16\n",
            "Percent error using inverse is 3.009873772223033e-16\n"
          ]
        }
      ]
    },
    {
      "cell_type": "markdown",
      "source": [
        "In the results, we can verify that AV is indeed equal to VD"
      ],
      "metadata": {
        "id": "m_DVxJ-QNL50"
      }
    },
    {
      "cell_type": "markdown",
      "metadata": {
        "id": "HceOjNu-VfN9"
      },
      "source": [
        "### PROBLEM 2\n",
        "\n",
        "**Solve a nonlinear equation using the relaxation method**\n",
        "\n",
        "Consider the equation $x=1- e^{-cx}$, where $c$ is a known parameter and $x$ is unknown. This equation arises in a variety of situations, including the physics of contact processes, mathematical models of epidemics, and the theory of random graphs.\n",
        "\n",
        "1. Write a program to solve this equation for $x$ using the relaxation method for the case $c = 2$. Calculate your solution to an accuracy of at least $10^{-6}$. *(10 pts.)*\n",
        "\n",
        "2. Modify your program to calculate the solution for values of $c$ from 0 to 3 in steps of 0.01. *(10 pts.)*\n",
        "\n",
        "3. Make a plot of $x$ as a function of $c$. Describe the different regimes that you see. *(10 pts.)*"
      ]
    },
    {
      "cell_type": "code",
      "metadata": {
        "id": "p28JF-OQYock",
        "colab": {
          "base_uri": "https://localhost:8080/",
          "height": 466
        },
        "outputId": "25b54cda-ceff-48f8-ff4b-da8796c88d50"
      },
      "source": [
        "from math import exp # For the exponential function\n",
        "from numpy import array, linspace # For the array of the matrix and the linspace that returns that array of values\n",
        "import matplotlib.pyplot as plt # For plotting the necessary plot\n",
        "\n",
        "def f(x, c): # Defining the given function\n",
        "  return 1-exp(-c*x)\n",
        "# x_prev = initial value of x\n",
        "# x_new = new value of x\n",
        "E = 1*exp(-6) # The given accuracy and the stop interval for the loop\n",
        "def relaxation_method(x, c, E): # Solving for the error of Newton's method\n",
        "  x_prev = x\n",
        "  x_new = f(x, c)\n",
        "  while (abs(x_new - x_prev)) > E:\n",
        "    x_new, x_prev = f(x_new, c), x_new\n",
        "  return x_new\n",
        "# For c = 2, we can get the solution by relaxation method\n",
        "print(\"Solution of x for c=2 is x=\", relaxation_method(1, 2, E))\n",
        "c_values = linspace(0, 3, 300+1) # The values of c from 0 to 3 in steps of 0.01\n",
        "s_values = array([relaxation_method(1, i, E) for i in c_values]) # The solution of x at each value of c\n",
        "# Plotting the graph of x as function of c\n",
        "plt.style.use('dark_background')\n",
        "plt.scatter(c_values, s_values, color = \"violet\")\n",
        "plt.xlabel(\"c\")\n",
        "plt.ylabel(\"x\")\n",
        "plt.grid()\n",
        "plt.show()\n",
        "\n"
      ],
      "execution_count": 19,
      "outputs": [
        {
          "output_type": "stream",
          "name": "stdout",
          "text": [
            "Solution of x for c=2 is x= 0.7984747083247583\n"
          ]
        },
        {
          "output_type": "display_data",
          "data": {
            "text/plain": [
              "<Figure size 640x480 with 1 Axes>"
            ],
            "image/png": "[encoded data removed]"
          },
          "metadata": {}
        }
      ]
    },
    {
      "cell_type": "markdown",
      "source": [
        "There is a clear transition from x=0 regime to a regime of nonzero values of x so as c has the values less than 1, the values of x stays at zero. Meanwhile, as c approaches 1, we can see the exponential growth for the values of x as it also approaches the value of 1."
      ],
      "metadata": {
        "id": "MtVWbLjocbkS"
      }
    },
    {
      "cell_type": "markdown",
      "metadata": {
        "id": "BY5x-mZsYoqG"
      },
      "source": [
        "### PROBLEM 3\n",
        "\n",
        "**Physics Application: Calculating the Lagrange point**\n",
        "\n",
        "_Refer to Exercise 6.16 of the Newman text._ The $L_1$ Lagrange point is the point between the Earth and the Moon at which a satellite will orbit the Earth in perfect synchrony with the Moon, staying always in between the two.\n",
        "\n",
        "Assuming circular orbits, and assuming that the Earth is much more massive than either the Moon or the satellite, the distance $r$ from the center of the Earth to the $L_1$ point satisfies\n",
        "$$ \\begin{equation}\n",
        "\\frac{GM}{r^2} - \\frac{Gm}{(R-r)^2} = \\omega^2 r,\n",
        "\\end{equation} $$\n",
        "where $R$ is the distance from the Earth to the Moon, $M$ and $m$ are the Earth and Moon masses, $G$ is Newton's gravitational constant, and $\\omega$ is the angular velocity of both the Moon and the satellite."
      ]
    },
    {
      "cell_type": "markdown",
      "metadata": {
        "id": "LlDDXIZ46CKU"
      },
      "source": [
        "Use Newton's method to solve for the distance r from the Earth to the $L_1$ point. Compute a solution accurate to at least four significant figures."
      ]
    },
    {
      "cell_type": "markdown",
      "source": [
        "**SOLUTION**"
      ],
      "metadata": {
        "id": "8wVPyrr79KQ7"
      }
    },
    {
      "cell_type": "markdown",
      "source": [
        "The general form of the function in Newton's method is f(x)=0.\\\\\n",
        "So, before applying the Newton's Method, we should convert the given function in terms of f(x)=0 by subtracting the equation by the term $ω^2r$ on both sides. Thus, the equation is now $$\\frac{GM}{r^2}-\\frac{Gm}{(R-r)^2}-w^2r=0$$\n"
      ],
      "metadata": {
        "id": "WfyyJ_LZ8R2r"
      }
    },
    {
      "cell_type": "code",
      "metadata": {
        "id": "Jiu5YAx6aMmq",
        "colab": {
          "base_uri": "https://localhost:8080/"
        },
        "outputId": "a5b4712b-17f3-40c4-b520-0c1bb7c630f3"
      },
      "source": [
        "import math\n",
        "# True values of the parameters were given\n",
        "G = 6.674e-11 # Newton's Gravitational Constant\n",
        "M = 5.974e24 # Mass of the Earth\n",
        "m = 7.348e22 # Mass of the moon\n",
        "R = 3.844e8 # Distance from the Earth to the Moon\n",
        "w = 2.662e-6 # Angular velocity of both the Moon and the satellite\n",
        "starting_r = 3e7 # Starting value for r\n",
        "sigfigs = 4 # Accuracy required is at least 4 significant figures\n",
        "\n",
        "def f(r): # Defining the given function\n",
        "  return (G*M/r**2 - G*m/(R-r)**2)-w**2*r\n",
        "def df(r): # Taking the first derivative w/ respect to r: df/dr\n",
        "  return (-2*G*M/r**3 - 2*G*m/(R-r)**3)-w**2\n",
        "\n",
        "# Let r_int be the starting point value, r_pre and r_new be the previous and new distance, respectively, from earth to the satellite\n",
        "# Calculating for the errors in Newton's method\n",
        "def newtons_method(r_int, E):\n",
        "  r_pre = r_int\n",
        "  r_new = r_int - f(r_int)/df(r_int) # Formula for the Newton's method\n",
        "  while (abs(r_new - r_pre) > 10**(math.floor(math.log10(r_new))-(E-1))): # Program the method until the difference between estimates is smaller than E\n",
        "    r_new, r_pre = r_new - f(r_new)/df(r_new), r_new\n",
        "  return r_new\n",
        "print(newtons_method(starting_r, sigfigs))"
      ],
      "execution_count": 11,
      "outputs": [
        {
          "output_type": "stream",
          "name": "stdout",
          "text": [
            "326045071.7734316\n"
          ]
        }
      ]
    }
  ]
}