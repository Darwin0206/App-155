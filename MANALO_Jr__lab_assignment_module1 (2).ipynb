{
  "nbformat": 4,
  "nbformat_minor": 0,
  "metadata": {
    "colab": {
      "provenance": []
    },
    "kernelspec": {
      "name": "python3",
      "display_name": "Python 3"
    }
  },
  "cells": [
    {
      "cell_type": "markdown",
      "metadata": {
        "id": "G0BcK0H_G1Iu"
      },
      "source": [
        "# **AP155 Lab Assignment**\n",
        "## Module 1: Integrals and Derivatives\n",
        "\n",
        "_Instructions_: Answer each problem as completely as you can. Discuss **all** your answers as clearly and concisely as possible.\n",
        "\n",
        "_Scoring Criteria_: 50% - *correctness of code*; 50% - *discussion of the code and results*. Maximum score is **100 points**.\n",
        "\n",
        "\n"
      ]
    },
    {
      "cell_type": "markdown",
      "metadata": {
        "id": "PeHZ9kP8JaVR"
      },
      "source": [
        "### Student Information\n",
        "\n",
        "_Full Name (Last Name, First Name)_: Manalo Jr., Darwin P.\n",
        "\n",
        "_Student No._: 202210113\n",
        "\n",
        "_Section_: THV-TX-2"
      ]
    },
    {
      "cell_type": "markdown",
      "metadata": {
        "id": "Hc183co-J4eI"
      },
      "source": [
        "### Submission Information\n",
        "\n",
        "_Date and Time Submitted (most recent upload)_: Sep. 20, 2024\n",
        "\n",
        "**HONOR PLEDGE** I affirm that I have upheld the highest principles of honesty and integrity in my academic work and that this lab assignment is my own work.\n",
        "\n",
        "**Sign here with your full name:** **Darwin P. Manalo Jr.**"
      ]
    },
    {
      "cell_type": "markdown",
      "metadata": {
        "id": "X1UGsRpW-eQs"
      },
      "source": [
        "### Grading Information (c/o Lab Instructor)\n",
        "\n",
        "TOTAL SCORE: **XX**/100\n",
        "\n",
        "Score breakdown:\n",
        "* Problem 1 - XX/30\n",
        "* Problem 2 - XX/30\n",
        "* Problem 3 - XX/40\n",
        "\n",
        "_Date and Time Scored (MM/DD/YYYY HH:MM AM/PM):_"
      ]
    },
    {
      "cell_type": "markdown",
      "metadata": {
        "id": "LxWuqiCFMsEh"
      },
      "source": [
        "### PROBLEM 1\n",
        "**Integration using the trapezoidal rule and Simpson's rule**\n",
        "\n",
        "Calculate the integral of the function $ 2x^4 + 3x^2 + 4x + 5$ from $x=0$ to $x=5$.\n",
        "\n",
        "1. Do the numerical calculation using the trapezoidal rule with 10, 100, and 1,000 slices. Describe each step of the calculation clearly and concisely. *(10 pts.)*\n",
        "\n",
        "2. What are the percentage errors of your answers in (1)? *(10 pts.)*\n",
        "\n",
        "3. Repeat the calculation using Simpson's rule with 10, 100, and 1,000 slices. Describe each step of the calculation clearly and concisely. *(5 pts.)*\n",
        "\n",
        "4. What are the percentage errors of your answers in (3)? How do they compare with the results from (1) for the same number of slices? *(5 pts.)*"
      ]
    },
    {
      "cell_type": "code",
      "metadata": {
        "id": "hMqWOsbIMoUh",
        "colab": {
          "base_uri": "https://localhost:8080/"
        },
        "outputId": "ab37efe5-6d9b-4338-e80f-af41cdf41698"
      },
      "source": [
        "import numpy as np\n",
        "# Defining the function in the integrand\n",
        "def f(x):\n",
        "  return 2*x**4 + 3*x**2 + 4*x + 5\n",
        "\n",
        "I = 1450 # Let I be the exact value of the integration obtained in WolframAlpha\n",
        "N_arr = np.array([10, 100, 1000]) # Let N be the number of slices and this array was set up for different slices.\n",
        "a, b = 0.0, 5.0 # Let a and b be the lower and upper limits of integration\n",
        "# Applying the Trapezoidal rule\n",
        "def trapezoidal(N):\n",
        "  h = (b-a)/N\n",
        "  s = 0.5*(f(a)+f(b))\n",
        "  sum = 0 # Starting the summation at zero before putting it into a loop\n",
        "  for k in range(1, N):\n",
        "    sum += f(a + k*h)\n",
        "  return h*(s + sum)\n",
        "# Let trap_results and trap_p_error represent the values of the result and percent error of using trapezoidal rule\n",
        "trap_results = np.zeros(len(N_arr))\n",
        "trap_p_error = np.zeros(len(N_arr))\n",
        "for i in range(len(N_arr)): #Let i be the experimental result from numerical calculation\n",
        "  trap_results[i] = trapezoidal(N_arr[i])\n",
        "  trap_p_error[i] = (abs(trap_results[i] - I)/I)*100\n",
        "\n",
        "print(\"Numerical calculation using Trapezoidal Rule\")\n",
        "print(f\"{'# of slices (N)':^20}{'Result':^20} {'% Error':^20}\") # For better results, I used this formatting of code to tabulate the results and percent error\n",
        "for i in range(len(N_arr)):\n",
        "  print(f\"{N_arr[i]:^20}{trap_results[i]:^20} {trap_p_error[i]:^20}\")\n",
        "print(\"\") # space between\n",
        "\n",
        "# Applying the Simpson's Rule\n",
        "def simpson(N):\n",
        "  h = (b-a)/N\n",
        "  s_odd, s_even = 0, 0 # Let s_odd and s_even represents the odd and even values of k, respectively\n",
        "  for k in range(1, N, 2):\n",
        "    s_odd += f(a + k*h)\n",
        "  for k in range(2, N, 2):\n",
        "    s_even += f(a + k*h)\n",
        "  return 1/3*h*(f(a) + f(b) + 4*s_odd + 2*s_even)\n",
        "# Let simp_results and simp_p_error represent the values of the results and percent error using Simpson's rule\n",
        "simp_results = np.zeros(len(N_arr))\n",
        "simp_p_error = np.zeros(len(N_arr))\n",
        "for i in range(len(N_arr)):\n",
        "  simp_results[i] = simpson(N_arr[i])\n",
        "  simp_p_error[i] = (abs(simp_results[i] - I)/I)*100\n",
        "\n",
        "print(\"Numerical calculation using Simpson's Rule\") # For better results, I used this formatting of code to tabulate the results and percent error\n",
        "print(f\"{'# of slices (N)':^20}{'Result':^20} {'% Error':^20}\")\n",
        "for i in range(len(N_arr)):\n",
        "  print(f\"{N_arr[i]:^20}{simp_results[i]:^20} {simp_p_error[i]:^20}\")\n"
      ],
      "execution_count": null,
      "outputs": [
        {
          "output_type": "stream",
          "name": "stdout",
          "text": [
            "Numerical calculation using Trapezoidal Rule\n",
            "  # of slices (N)          Result              % Error       \n",
            "         10              1471.4375        1.478448275862069  \n",
            "        100          1450.2145812500003  0.014798706896569988\n",
            "        1000         1450.0021458331234  0.00014798849127240326\n",
            "\n",
            "Numerical calculation using Simpson's Rule\n",
            "  # of slices (N)          Result              % Error       \n",
            "         10          1450.0833333333333  0.005747126436776382\n",
            "        100          1450.0000083333337  5.747126657485657e-07\n",
            "        1000         1450.0000000008342  5.753338035870472e-11\n"
          ]
        }
      ]
    },
    {
      "cell_type": "markdown",
      "metadata": {
        "id": "m2a6sg90R-NX"
      },
      "source": [
        "### PROBLEM 2\n",
        "\n",
        "**Integration using Gaussian quadrature**\n",
        "\n",
        "Calculate the integral from Problem 1 using the Gaussian quadrature method: $ 2x^4 + 3x^2 + 4x + 5$ from $x=0$ to $x=5$.\n",
        "\n",
        "1. Define the function $\\tt gaussxw$ from Appendix E of the Newman text (and run the cell). *(10 pts.)*\n",
        "\n",
        "2. Calculate the integral using the $\\tt gaussxw$ function in (1) and number of slices $N = 3$. Describe each step in the calculation clearly and concisely. *(20 pts.)*"
      ]
    },
    {
      "cell_type": "code",
      "metadata": {
        "id": "YO_PDJ4VIVs5",
        "colab": {
          "base_uri": "https://localhost:8080/"
        },
        "outputId": "a08755e6-760a-44c7-d22a-9e60bc26f272"
      },
      "source": [
        "import numpy as py\n",
        "from numpy import linspace, cos, pi, tan, ones, copy # This function returns the sample points and weights for Gaussian quadrature\n",
        "# Applying Gaussian Quadrature\n",
        "def gaussxw(N):\n",
        "  # Initial approximation to roots of the Legendre polynomial\n",
        "  a = linspace(3,4*N-1,N)/(4*N+2)\n",
        "  x = cos(pi*a+1/(8*N*N*tan(a)))\n",
        "  epsilon = 1e-15\n",
        "  delta = 1.0\n",
        "  while delta>epsilon:\n",
        "   p0 = ones(N,float)\n",
        "   p1 = copy(x)\n",
        "   for k in range(1,N):\n",
        "    p0,p1 = p1,((2*k+1)*x*p1-k*p0)/(k+1) # Getting the recurrence relation of the Legendre polynomial\n",
        "   dp = (N+1)*(p0-x*p1)/(1-x*x)\n",
        "   dx = p1/dp\n",
        "   x -= dx\n",
        "   delta= max(abs(dx))\n",
        "# Calculate the weights\n",
        "  w = 2*(N+1)*(N+1)/(N*N*(1-x*x)*dp*dp)\n",
        "  return x,w\n",
        "# Defining the given function\n",
        "def f(x):\n",
        "  return 2*x**4 + 3*x**2 + 4*x + 5\n",
        "N = 3\n",
        "a, b = 0.0, 5.0\n",
        "x,w = gaussxw(N)\n",
        "x_rescale = 0.5*(b-a)*x + 0.5*(b+a) # This rescales the sample points and weights for the given domain [a, b]\n",
        "w_rescale = 0.5*(b-a)*w\n",
        "I = 0\n",
        "for k in range(N):\n",
        "  I += w_rescale[k]*f(x_rescale[k]) # This calculates the sum to get the estimated value of the integral\n",
        "\n",
        "print(\"Approximation using Gaussian Qaudrature:\")\n",
        "print(I)"
      ],
      "execution_count": null,
      "outputs": [
        {
          "output_type": "stream",
          "name": "stdout",
          "text": [
            "Approximation using Gaussian Qaudrature:\n",
            "1450.000000000002\n"
          ]
        }
      ]
    },
    {
      "cell_type": "markdown",
      "metadata": {
        "id": "HceOjNu-VfN9"
      },
      "source": [
        "### PROBLEM 3\n",
        "\n",
        "**Physics Application: Anharmonic Oscillator**\n",
        "\n",
        "_Refer to Exercise 5.10 of the Newman text._ Consider an anharmonic oscillator with potential $V(x)$ symmetric about $x = 0$. Let us set our anharmonic oscillator going with amplitude $a$. That is, at $t = 0$ we release it from rest at position $x = a$ and it swings back towards the origin. Then at $t = 0$ we have $dx/dt = 0$ and the equation for its total energy becomes $E = V(a)$, i.e., the total energy of the particle is given in terms of the amplitude.\n",
        "\n",
        "When the particle reaches the origin for the first time, it has gone through one quarter of a period of the oscillator. The period $T$ is given by: $$ T = \\sqrt{8m} \\int_0^a \\frac{dx}{\\sqrt{V(a)-V(x)}}. $$\n",
        "\n",
        "1. Suppose the potential is $V(x) = x^4$ and the mass of the particle is $m = 1$. Write a Python function that calculates the period of the oscillator for given amplitude a using Gaussian quadrature with $N = 20$ points. Describe each step clearly and concisely. *(20 pts.)*\n",
        "\n",
        "2. Use your function to make a graph of the period for amplitudes ranging from $a = 0$ to $a = 2$. Describe the behavior you find and explain these results clearly and concisely. *(20 pts.)*"
      ]
    },
    {
      "cell_type": "code",
      "metadata": {
        "id": "p28JF-OQYock",
        "colab": {
          "base_uri": "https://localhost:8080/",
          "height": 472
        },
        "outputId": "d45ad77b-2b10-46d8-9dbc-a6b87d89a20a"
      },
      "source": [
        "import numpy as np\n",
        "from numpy import linspace, cos, pi, tan, ones, copy\n",
        "import matplotlib.pyplot as plt\n",
        "from math import sqrt\n",
        "# Initial values given\n",
        "N = 20 # Number of points\n",
        "a = 2 # a is the upper-bound amplitude\n",
        "m = 1 # Where m is the mass\n",
        "# Applying Gaussian Quadrature\n",
        "def gaussxw(N):\n",
        "  a = linspace(3,4*N-1,N)/(4*N+2)\n",
        "  x = cos(pi*a+1/(8*N*N*tan(a)))\n",
        "  epsilon = 1e-15\n",
        "  delta = 1.0\n",
        "  while delta>epsilon:\n",
        "   p0 = ones(N,float)\n",
        "   p1 = copy(x)\n",
        "   for k in range(1,N):\n",
        "    p0,p1 = p1,((2*k+1)*x*p1-k*p0)/(k+1)\n",
        "   dp = (N+1)*(p0-x*p1)/(1-x*x)\n",
        "   dx = p1/dp\n",
        "   x -= dx\n",
        "   delta= max(abs(dx))\n",
        "# Calculate the weights\n",
        "  w = 2*(N+1)*(N+1)/(N*N*(1-x*x)*dp*dp)\n",
        "  return x,w # we return the values of the weight and values of the Legendre Polynomial\n",
        "# Defining the given potential\n",
        "def V(x):\n",
        "  return x**4\n",
        "\n",
        "def integrand(x, a):\n",
        "  return 1/sqrt(V(a)-V(x)) # Note that x must not be equal to a since the denominator will be zero if x==a\n",
        "\n",
        "# Calculating the Period (T)\n",
        "def T(a, N):\n",
        "# Approximating the value of the integral\n",
        "  x,w = gaussxw(N)\n",
        "  # Rescaling x and w according to the given values of \"a\"\n",
        "  x_rescale = 0.5*(a)*x + 0.5*(a)\n",
        "  w_rescale = 0.5*(a)*w\n",
        "  # Let I be the estimated value of integration and performing the summation\n",
        "  I = 0\n",
        "  for k in range(1, N):\n",
        "    I += w_rescale[k]*integrand(x_rescale[k], a)\n",
        "  # Multiplying the integral with sqrt of 8m\n",
        "  return sqrt(8*m)*I\n",
        "\n",
        "# Plotting T versus a\n",
        "n = 20 # Let n be the number of points of the plot\n",
        "a_plot = np.zeros(n) # A as the x-axis\n",
        "T_plot = np.zeros(n) # T as the y-axis\n",
        "\n",
        "for i in range(n): # for loop for x-axis (amplitude)\n",
        "  a_plot[i] = a/n * (i+1)\n",
        "for i in range(n): # for loop for y-axis (Period)\n",
        "  T_plot[i] = T(a_plot[i], N)\n",
        "# Plotting the graph\n",
        "plt.scatter(a_plot, T_plot)\n",
        "plt.xlabel(\"A (amplitude)\")\n",
        "plt.ylabel(\"T (period)\")\n",
        "plt.title(\"T vs. A\")\n",
        "plt.grid()\n",
        "plt.show()\n",
        "# We expect the graph to scale as 1/a since the value of the integral diverges as a increases."
      ],
      "execution_count": 1,
      "outputs": [
        {
          "output_type": "display_data",
          "data": {
            "text/plain": [
              "<Figure size 640x480 with 1 Axes>"
            ],
            "image/png": "[encoded data removed]"
          },
          "metadata": {}
        }
      ]
    },
    {
      "cell_type": "markdown",
      "source": [
        "The graph has an asymptotic feature describing the relationship between the amplitude and period as a scale of 1/a relation which states that the period decreases with the increase of the amplitude so it means that the period of oscillation decreases as the amplitude of the anharmonic oscillator increases.\n"
      ],
      "metadata": {
        "id": "9mTW5VqIadS6"
      }
    }
  ]
}